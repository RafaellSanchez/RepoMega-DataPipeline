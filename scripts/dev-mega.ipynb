{
 "cells": [
  {
   "cell_type": "code",
   "execution_count": 5,
   "metadata": {},
   "outputs": [],
   "source": [
    "import openpyxl\n",
    "import time\n",
    "import pandas as pd"
   ]
  },
  {
   "cell_type": "code",
   "execution_count": 7,
   "metadata": {},
   "outputs": [
    {
     "name": "stdout",
     "output_type": "stream",
     "text": [
      "Iterando sobre a planilha\n",
      "DataFrame criado\n",
      "Iterando sobre o df\n",
      "Salvando o df com delimitador ponto e virgula\n",
      "Nome do arquivo /workspaces/RepoMega-DataPipeline/data/files/full-data-megaMEGA SENA.txt\n"
     ]
    }
   ],
   "source": [
    "# Carregue o arquivo Excel\n",
    "file = '/workspaces/RepoMega-DataPipeline/data/xlsx/Mega-Sena.xlsx'\n",
    "path = '/workspaces/RepoMega-DataPipeline/data/files/'\n",
    "wb = openpyxl.load_workbook(filename=file)\n",
    "file_mg = f'full-data-mega'\n",
    "\n",
    "name = path + name\n",
    "\n",
    "dict_dfs = {}\n",
    "\n",
    "time.sleep(3)\n",
    "print('Iterando sobre a planilha')\n",
    "# Iterar sobre as planilhas e criar DataFrames\n",
    "for sheet in wb.sheetnames:\n",
    "    sheet_data = []\n",
    "    for row in wb[sheet].iter_rows(values_only=True):\n",
    "        sheet_data.append(row)\n",
    "    \n",
    "    df = pd.DataFrame(sheet_data[1:], columns=sheet_data[0])\n",
    "    dict_dfs[sheet] = df\n",
    "time.sleep(3)\n",
    "print('DataFrame criado')\n",
    "# Iterar sobre as planilhas no dicionário e salvar em arquivos de texto delimitados por ponto e vírgula\n",
    "for sheet_name, df in dict_dfs.items():\n",
    "    file_name = name + sheet_name + '.txt'\n",
    "    df.to_csv(file_name, sep=';', index=False)\n",
    "time.sleep(3)\n",
    "print('Iterando sobre o df')\n",
    "print('Salvando o df com delimitador ponto e virgula')\n",
    "print(f'Nome do arquivo {file_name}')"
   ]
  }
 ],
 "metadata": {
  "kernelspec": {
   "display_name": "Python 3",
   "language": "python",
   "name": "python3"
  },
  "language_info": {
   "codemirror_mode": {
    "name": "ipython",
    "version": 3
   },
   "file_extension": ".py",
   "mimetype": "text/x-python",
   "name": "python",
   "nbconvert_exporter": "python",
   "pygments_lexer": "ipython3",
   "version": "3.10.13"
  }
 },
 "nbformat": 4,
 "nbformat_minor": 2
}
